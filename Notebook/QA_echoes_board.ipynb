{
 "cells": [
  {
   "cell_type": "code",
   "execution_count": 12,
   "metadata": {},
   "outputs": [],
   "source": [
    "# Import libraries\n",
    "\n",
    "#Basics\n",
    "import os,sys\n",
    "from pathlib import Path\n",
    "import numpy as np\n",
    "import pandas as pd\n",
    "import json\n",
    "from datetime import datetime,timedelta\n",
    "from IPython.display import display\n",
    "\n",
    "\n",
    "# Plotting\n",
    "import matplotlib.pyplot as plt\n",
    "#import matplotlib.ticker\n",
    "import seaborn as sns\n",
    "\n",
    "# Statistic / Algo\n",
    "from scipy import stats\n",
    "from bisect import bisect_left\n",
    "\n",
    "\n",
    "# Local dependacies and APIs\n",
    "parent_dir = os.path.abspath(os.path.join('..'))\n",
    "if parent_dir not in sys.path:\n",
    "    sys.path.append(parent_dir)\n",
    "\n",
    "import api.echoes_signal_processing_api\n",
    "from api.util import *\n",
    "# from lib.commandline import *\n"
   ]
  },
  {
   "cell_type": "code",
   "execution_count": 13,
   "metadata": {},
   "outputs": [
    {
     "data": {
      "text/plain": [
       "'/home/kacao/TitanAES/Python-scripts'"
      ]
     },
     "metadata": {},
     "output_type": "display_data"
    }
   ],
   "source": [
    "# Read the data logs from EchOES board\n",
    "display(parent_dir)\n",
    "with open(parent_dir + '/data/PCBway_status.json', 'rb') as json_file:\n",
    "    pcbway_logs = json.load(json_file)\n",
    "json_file.close()\n",
    "\n",
    "with open(parent_dir + '/data/LEEMah_status.json', 'rb') as json_file:\n",
    "    leemah_logs = json.load(json_file)\n",
    "json_file.close()\n"
   ]
  },
  {
   "cell_type": "code",
   "execution_count": 14,
   "metadata": {
    "scrolled": true
   },
   "outputs": [
    {
     "name": "stdout",
     "output_type": "stream",
     "text": [
      "Total capture pcbway: 2703, leemah: 5000\n",
      "pcbway failure rate: 0.037%\n",
      "leemah failure rate: 51.66%\n"
     ]
    }
   ],
   "source": [
    "# Failure rate\n",
    "print(\"Total capture pcbway: {}, leemah: {}\".format(len(pcbway_logs['logging_report']), \n",
    "                                                    len(leemah_logs['logging_report'])))\n",
    "pcbway_failure_ratio = (pcbway_logs['failed_count'] + pcbway_logs['noises_count'])/len(pcbway_logs['logging_report'])\n",
    "leemah_failure_ratio = (leemah_logs['failed_count'] + leemah_logs['noises_count'])/len(leemah_logs['logging_report'])\n",
    "\n",
    "print ('pcbway failure rate: {}%'.format(round(pcbway_failure_ratio*100,4)))\n",
    "print ('leemah failure rate: {}%'.format(round(leemah_failure_ratio*100,4)))\n"
   ]
  },
  {
   "cell_type": "code",
   "execution_count": 19,
   "metadata": {},
   "outputs": [
    {
     "ename": "TypeError",
     "evalue": "can only concatenate list (not \"int\") to list",
     "output_type": "error",
     "traceback": [
      "\u001b[0;31m---------------------------------------------------------------------------\u001b[0m",
      "\u001b[0;31mTypeError\u001b[0m                                 Traceback (most recent call last)",
      "\u001b[0;32m<ipython-input-19-db226e9bbf61>\u001b[0m in \u001b[0;36m<module>\u001b[0;34m\u001b[0m\n\u001b[1;32m      8\u001b[0m     \u001b[0;32mif\u001b[0m \u001b[0mlen\u001b[0m\u001b[0;34m(\u001b[0m \u001b[0mpcbway_logs\u001b[0m\u001b[0;34m[\u001b[0m\u001b[0;34m'logging_report'\u001b[0m\u001b[0;34m]\u001b[0m\u001b[0;34m[\u001b[0m\u001b[0mindex\u001b[0m\u001b[0;34m]\u001b[0m\u001b[0;34m[\u001b[0m\u001b[0mstr\u001b[0m\u001b[0;34m(\u001b[0m\u001b[0mindex\u001b[0m\u001b[0;34m+\u001b[0m\u001b[0;36m1\u001b[0m\u001b[0;34m)\u001b[0m\u001b[0;34m]\u001b[0m \u001b[0;34m)\u001b[0m \u001b[0;34m!=\u001b[0m \u001b[0;36m0\u001b[0m\u001b[0;34m:\u001b[0m\u001b[0;34m\u001b[0m\u001b[0;34m\u001b[0m\u001b[0m\n\u001b[1;32m      9\u001b[0m         \u001b[0mpcbway_badCapture\u001b[0m\u001b[0;34m.\u001b[0m\u001b[0mappend\u001b[0m\u001b[0;34m(\u001b[0m\u001b[0mindex\u001b[0m\u001b[0;34m+\u001b[0m\u001b[0;36m1\u001b[0m\u001b[0;34m)\u001b[0m\u001b[0;34m\u001b[0m\u001b[0;34m\u001b[0m\u001b[0m\n\u001b[0;32m---> 10\u001b[0;31m         \u001b[0mpcbway_badCapture_sample\u001b[0m \u001b[0;34m+=\u001b[0m \u001b[0mpcbway_logs\u001b[0m\u001b[0;34m[\u001b[0m\u001b[0;34m'logging_report'\u001b[0m\u001b[0;34m]\u001b[0m\u001b[0;34m[\u001b[0m\u001b[0mindex\u001b[0m\u001b[0;34m]\u001b[0m\u001b[0;34m[\u001b[0m\u001b[0mstr\u001b[0m\u001b[0;34m(\u001b[0m\u001b[0mindex\u001b[0m\u001b[0;34m+\u001b[0m\u001b[0;36m1\u001b[0m\u001b[0;34m)\u001b[0m\u001b[0;34m]\u001b[0m \u001b[0;34m+\u001b[0m \u001b[0;36m1\u001b[0m\u001b[0;34m\u001b[0m\u001b[0;34m\u001b[0m\u001b[0m\n\u001b[0m\u001b[1;32m     11\u001b[0m         \u001b[0mprint\u001b[0m \u001b[0;34m(\u001b[0m\u001b[0;34m'bad capture index: {}, bad sample: {}'\u001b[0m\u001b[0;34m.\u001b[0m\u001b[0mformat\u001b[0m\u001b[0;34m(\u001b[0m\u001b[0mpcbway_badCapture\u001b[0m\u001b[0;34m,\u001b[0m \u001b[0mpcbway_logs\u001b[0m\u001b[0;34m[\u001b[0m\u001b[0;34m'logging_report'\u001b[0m\u001b[0;34m]\u001b[0m\u001b[0;34m[\u001b[0m\u001b[0mindex\u001b[0m\u001b[0;34m]\u001b[0m\u001b[0;34m[\u001b[0m\u001b[0mstr\u001b[0m\u001b[0;34m(\u001b[0m\u001b[0mindex\u001b[0m\u001b[0;34m+\u001b[0m\u001b[0;36m1\u001b[0m\u001b[0;34m)\u001b[0m\u001b[0;34m]\u001b[0m\u001b[0;34m)\u001b[0m\u001b[0;34m)\u001b[0m\u001b[0;34m\u001b[0m\u001b[0;34m\u001b[0m\u001b[0m\n\u001b[1;32m     12\u001b[0m \u001b[0;34m\u001b[0m\u001b[0m\n",
      "\u001b[0;31mTypeError\u001b[0m: can only concatenate list (not \"int\") to list"
     ]
    }
   ],
   "source": [
    "# Distribution of bad captures in an auto test\n",
    "pcbway_badCapture = []\n",
    "pcbway_badCapture_sample = []\n",
    "leemah_badCapture = []\n",
    "leemah_badCapture_sample = []\n",
    "\n",
    "for index, aLog in enumerate(pcbway_logs['logging_report']):\n",
    "    if len( pcbway_logs['logging_report'][index][str(index+1)] ) != 0:\n",
    "        pcbway_badCapture.append(index+1)\n",
    "        pcbway_badCapture_sample += pcbway_logs['logging_report'][index][str(index+1)]\n",
    "        print ('bad capture index: {}, bad sample: {}'.format(pcbway_badCapture, pcbway_logs['logging_report'][index][str(index+1)]))\n",
    "\n",
    "a = np.array(pcbway_badCapture_sample)\n",
    "unique, counts = np.unique(a, return_counts=True)\n",
    "result = dict(zip(unique, counts))\n",
    "\n",
    "print(result), print (len(result.keys()), list(result.values()))\n",
    "item = [key+1 for key, _ in result.items()]\n",
    "print (item)\n",
    "\n",
    "pcbway_badCapture_df = pd.DataFrame.from_dict([result])\n",
    "print(\"PCBway - Occurence of bad index\")\n",
    "pcbway_badCapture_df.head()\n",
    "\n",
    "\n",
    "plt.hist(item, list(result.values()), color='g', histtype='bar', rwidth=0.1)\n",
    "d = {\n",
    "    'a' : {'L1':2, 'L2':5, 'L3':8},\n",
    "    'b' : {'L1':4, 'L2':7, 'L3':10},\n",
    "    'c' : {'L1':19, 'L2':0, 'L3':1},\n",
    "}\n",
    "\n",
    "pd.DataFrame(d).plot(kind='bar')\n",
    "# plt.show()\n"
   ]
  },
  {
   "cell_type": "code",
   "execution_count": null,
   "metadata": {},
   "outputs": [],
   "source": [
    "# -------------------------------------------------------------#\n",
    "\n",
    "# for index, aLog in enumerate(leemah_logs['logging_report']):\n",
    "#     if len( leemah_logs['logging_report'][index][str(index+1)] ) != 0:\n",
    "#         leemah_badCapture.append(index+1)\n",
    "#         leemah_badCapture_sample += leemah_logs['logging_report'][index][str(index+1)]\n",
    "        \n",
    "\n",
    "# b = np.array(leemah_badCapture_sample)\n",
    "# unique, counts = np.unique(b, return_counts=True)\n",
    "# result = dict(zip(unique, counts))\n",
    "\n",
    "# print (result)\n",
    "# leemah_badCapture_df = pd.DataFrame.from_dict([result])\n",
    "# print(\"LEEmah - Occurence of bad index\")\n",
    "# leemah_badCapture_df.head()\n",
    "\n",
    "# plt.hist(result.key, result.values(), histtype='bar', rwidth=0.1)\n",
    "\n",
    "\n",
    "\n",
    "# Distribution of bad samples in a capture\n",
    "# plt.hist(leemah_badCapture_df,column='occurence_bad_index_per_capture')\n",
    "# plt.hist(leemah_badCapture_df, bins = 10)"
   ]
  }
 ],
 "metadata": {
  "kernelspec": {
   "display_name": "Python 3",
   "language": "python",
   "name": "python3"
  },
  "language_info": {
   "codemirror_mode": {
    "name": "ipython",
    "version": 3
   },
   "file_extension": ".py",
   "mimetype": "text/x-python",
   "name": "python",
   "nbconvert_exporter": "python",
   "pygments_lexer": "ipython3",
   "version": "3.6.9"
  }
 },
 "nbformat": 4,
 "nbformat_minor": 2
}
