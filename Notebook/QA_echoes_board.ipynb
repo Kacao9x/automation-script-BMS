{
 "cells": [
  {
   "cell_type": "code",
   "execution_count": 1,
   "metadata": {},
   "outputs": [],
   "source": [
    "# Import libraries\n",
    "\n",
    "#Basics\n",
    "import os,sys\n",
    "from pathlib import Path\n",
    "import numpy as np\n",
    "import pandas as pd\n",
    "import json\n",
    "from datetime import datetime,timedelta\n",
    "from IPython.display import display\n",
    "\n",
    "\n",
    "# Plotting\n",
    "import matplotlib.pyplot as plt\n",
    "#import matplotlib.ticker\n",
    "import seaborn as sns\n",
    "\n",
    "# Statistic / Algo\n",
    "from scipy import stats\n",
    "from bisect import bisect_left\n",
    "\n",
    "\n",
    "# Local dependacies and APIs\n",
    "parent_dir = os.path.abspath(os.path.join('..'))\n",
    "if parent_dir not in sys.path:\n",
    "    sys.path.append(parent_dir)\n",
    "\n",
    "import api.echoes_signal_processing_api\n",
    "from api.util import *\n",
    "# from lib.commandline import *\n"
   ]
  },
  {
   "cell_type": "code",
   "execution_count": 4,
   "metadata": {},
   "outputs": [
    {
     "data": {
      "text/plain": [
       "'/home/kacao/TitanAES/Python-scripts'"
      ]
     },
     "metadata": {},
     "output_type": "display_data"
    }
   ],
   "source": [
    "# Read the data logs from EchOES board\n",
    "display(parent_dir)\n",
    "with open(parent_dir + '/data/PCBway_status.json', 'rb') as json_file:\n",
    "    pcbway_logs = json.load(json_file)\n",
    "json_file.close()\n",
    "\n",
    "with open(parent_dir + '/data/LEEMah_status.json', 'rb') as json_file:\n",
    "    leemah_logs = json.load(json_file)\n",
    "json_file.close()\n"
   ]
  },
  {
   "cell_type": "code",
   "execution_count": 5,
   "metadata": {
    "scrolled": true
   },
   "outputs": [
    {
     "name": "stdout",
     "output_type": "stream",
     "text": [
      "Total capture pcbway: 5000, leemah: 5000\n",
      "pcbway failure rate: 0.02%\n",
      "leemah failure rate: 51.66%\n"
     ]
    }
   ],
   "source": [
    "# Failure rate\n",
    "print(\"Total capture pcbway: {}, leemah: {}\".format(len(pcbway_logs['logging_report']), \n",
    "                                                    len(leemah_logs['logging_report'])))\n",
    "pcbway_failure_ratio = (pcbway_logs['failed_count'] + pcbway_logs['noises_count'])/len(pcbway_logs['logging_report'])\n",
    "leemah_failure_ratio = (leemah_logs['failed_count'] + leemah_logs['noises_count'])/len(leemah_logs['logging_report'])\n",
    "\n",
    "print ('pcbway failure rate: {}%'.format(round(pcbway_failure_ratio*100,4)))\n",
    "print ('leemah failure rate: {}%'.format(round(leemah_failure_ratio*100,4)))\n"
   ]
  },
  {
   "cell_type": "code",
   "execution_count": 6,
   "metadata": {},
   "outputs": [
    {
     "name": "stdout",
     "output_type": "stream",
     "text": [
      "bad capture index: [1547], bad sample: [0, 1, 2, 3]\n",
      "{0: 1, 1: 1, 2: 1, 3: 1}\n",
      "4 [1, 1, 1, 1]\n"
     ]
    },
    {
     "data": {
      "text/plain": [
       "(None, None)"
      ]
     },
     "execution_count": 6,
     "metadata": {},
     "output_type": "execute_result"
    },
    {
     "name": "stdout",
     "output_type": "stream",
     "text": [
      "[1, 2, 3, 4]\n",
      "PCBway - Occurence of bad index\n"
     ]
    },
    {
     "data": {
      "text/html": [
       "<div>\n",
       "<style scoped>\n",
       "    .dataframe tbody tr th:only-of-type {\n",
       "        vertical-align: middle;\n",
       "    }\n",
       "\n",
       "    .dataframe tbody tr th {\n",
       "        vertical-align: top;\n",
       "    }\n",
       "\n",
       "    .dataframe thead th {\n",
       "        text-align: right;\n",
       "    }\n",
       "</style>\n",
       "<table border=\"1\" class=\"dataframe\">\n",
       "  <thead>\n",
       "    <tr style=\"text-align: right;\">\n",
       "      <th></th>\n",
       "      <th>0</th>\n",
       "      <th>1</th>\n",
       "      <th>2</th>\n",
       "      <th>3</th>\n",
       "    </tr>\n",
       "  </thead>\n",
       "  <tbody>\n",
       "    <tr>\n",
       "      <th>0</th>\n",
       "      <td>1</td>\n",
       "      <td>1</td>\n",
       "      <td>1</td>\n",
       "      <td>1</td>\n",
       "    </tr>\n",
       "  </tbody>\n",
       "</table>\n",
       "</div>"
      ],
      "text/plain": [
       "   0  1  2  3\n",
       "0  1  1  1  1"
      ]
     },
     "execution_count": 6,
     "metadata": {},
     "output_type": "execute_result"
    },
    {
     "data": {
      "text/plain": [
       "(array([0., 0., 1.]), array([1, 1, 1, 1]), <a list of 3 Patch objects>)"
      ]
     },
     "execution_count": 6,
     "metadata": {},
     "output_type": "execute_result"
    },
    {
     "data": {
      "text/plain": [
       "<matplotlib.axes._subplots.AxesSubplot at 0x7f4227347d30>"
      ]
     },
     "execution_count": 6,
     "metadata": {},
     "output_type": "execute_result"
    },
    {
     "data": {
      "image/png": "[encoded data removed]",
      "text/plain": [
       "<Figure size 432x288 with 1 Axes>"
      ]
     },
     "metadata": {
      "needs_background": "light"
     },
     "output_type": "display_data"
    },
    {
     "data": {
      "image/png": "[encoded data removed]",
      "text/plain": [
       "<Figure size 432x288 with 1 Axes>"
      ]
     },
     "metadata": {
      "needs_background": "light"
     },
     "output_type": "display_data"
    }
   ],
   "source": [
    "# Distribution of bad captures in an auto test\n",
    "pcbway_badCapture = []\n",
    "pcbway_badCapture_sample = []\n",
    "leemah_badCapture = []\n",
    "leemah_badCapture_sample = []\n",
    "\n",
    "for index, aLog in enumerate(pcbway_logs['logging_report']):\n",
    "    if len( pcbway_logs['logging_report'][index][str(index+1)] ) != 0:\n",
    "        pcbway_badCapture.append(index+1)\n",
    "        pcbway_badCapture_sample += pcbway_logs['logging_report'][index][str(index+1)]\n",
    "        print ('bad capture index: {}, bad sample: {}'.format(pcbway_badCapture, pcbway_logs['logging_report'][index][str(index+1)]))\n",
    "\n",
    "a = np.array(pcbway_badCapture_sample)\n",
    "unique, counts = np.unique(a, return_counts=True)\n",
    "result = dict(zip(unique, counts))\n",
    "\n",
    "print(result), print (len(result.keys()), list(result.values()))\n",
    "item = [key+1 for key, _ in result.items()]\n",
    "print (item)\n",
    "\n",
    "pcbway_badCapture_df = pd.DataFrame.from_dict([result])\n",
    "print(\"PCBway - Occurence of bad index\")\n",
    "pcbway_badCapture_df.head()\n",
    "\n",
    "\n",
    "plt.hist(item, list(result.values()), color='g', histtype='bar', rwidth=0.1)\n",
    "d = {\n",
    "    'a' : {'L1':2, 'L2':5, 'L3':8},\n",
    "    'b' : {'L1':4, 'L2':7, 'L3':10},\n",
    "    'c' : {'L1':19, 'L2':0, 'L3':1},\n",
    "}\n",
    "\n",
    "pd.DataFrame(d).plot(kind='bar')\n",
    "# plt.show()\n"
   ]
  },
  {
   "cell_type": "code",
   "execution_count": null,
   "metadata": {},
   "outputs": [],
   "source": [
    "# -------------------------------------------------------------#\n",
    "\n",
    "# for index, aLog in enumerate(leemah_logs['logging_report']):\n",
    "#     if len( leemah_logs['logging_report'][index][str(index+1)] ) != 0:\n",
    "#         leemah_badCapture.append(index+1)\n",
    "#         leemah_badCapture_sample += leemah_logs['logging_report'][index][str(index+1)]\n",
    "        \n",
    "\n",
    "# b = np.array(leemah_badCapture_sample)\n",
    "# unique, counts = np.unique(b, return_counts=True)\n",
    "# result = dict(zip(unique, counts))\n",
    "\n",
    "# print (result)\n",
    "# leemah_badCapture_df = pd.DataFrame.from_dict([result])\n",
    "# print(\"LEEmah - Occurence of bad index\")\n",
    "# leemah_badCapture_df.head()\n",
    "\n",
    "# plt.hist(result.key, result.values(), histtype='bar', rwidth=0.1)\n",
    "\n",
    "\n",
    "\n",
    "# Distribution of bad samples in a capture\n",
    "# plt.hist(leemah_badCapture_df,column='occurence_bad_index_per_capture')\n",
    "# plt.hist(leemah_badCapture_df, bins = 10)"
   ]
  }
 ],
 "metadata": {
  "kernelspec": {
   "display_name": "Python 3",
   "language": "python",
   "name": "python3"
  },
  "language_info": {
   "codemirror_mode": {
    "name": "ipython",
    "version": 3
   },
   "file_extension": ".py",
   "mimetype": "text/x-python",
   "name": "python",
   "nbconvert_exporter": "python",
   "pygments_lexer": "ipython3",
   "version": "3.6.9"
  }
 },
 "nbformat": 4,
 "nbformat_minor": 2
}
